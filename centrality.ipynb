{
 "cells": [
  {
   "cell_type": "code",
   "execution_count": null,
   "metadata": {},
   "outputs": [],
   "source": [
    "import networkx as nx\n",
    "import pandas as pd\n",
    "import operator\n",
    "\n",
    "df=pd.read_csv('filename2.csv')\n",
    "G=nx.from_pandas_edgelist(df)"
   ]
  },
  {
   "cell_type": "code",
   "execution_count": null,
   "metadata": {},
   "outputs": [],
   "source": [
    "#nodes ranking on basis of betweenness centrality\n",
    "x=nx.betweenness_centrality(G)\n",
    "sorted_x=sorted(x.items(),key=operator.itemgetter(1),reverse=True)\n",
    "#print(sorted_x)"
   ]
  },
  {
   "cell_type": "code",
   "execution_count": null,
   "metadata": {},
   "outputs": [],
   "source": [
    "#nodes ranking on basis of degree centrality\n",
    "y=nx.degree_centrality(G)\n",
    "sorted_y=sorted(y.items(),key=operator.itemgetter(1),reverse=True)\n",
    "#print(sorted_x)"
   ]
  },
  {
   "cell_type": "code",
   "execution_count": null,
   "metadata": {},
   "outputs": [],
   "source": [
    "#nodes ranking on basis of eigenvector centrality\n",
    "z=nx.eigenvector_centrality(G)\n",
    "sorted_z=sorted(z.items(),key=operator.itemgetter(1),reverse=True)\n",
    "#print(sorted_y)"
   ]
  },
  {
   "cell_type": "code",
   "execution_count": null,
   "metadata": {},
   "outputs": [],
   "source": []
  }
 ],
 "metadata": {
  "kernelspec": {
   "display_name": "Python 3",
   "language": "python",
   "name": "python3"
  },
  "language_info": {
   "codemirror_mode": {
    "name": "ipython",
    "version": 3
   },
   "file_extension": ".py",
   "mimetype": "text/x-python",
   "name": "python",
   "nbconvert_exporter": "python",
   "pygments_lexer": "ipython3",
   "version": "3.6.2"
  }
 },
 "nbformat": 4,
 "nbformat_minor": 2
}
