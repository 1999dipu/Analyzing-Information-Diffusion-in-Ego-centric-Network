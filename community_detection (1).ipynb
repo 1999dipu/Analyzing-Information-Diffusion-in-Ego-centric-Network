{
 "cells": [
  {
   "cell_type": "code",
   "execution_count": null,
   "metadata": {},
   "outputs": [],
   "source": [
    "#community detection\n",
    "import community\n",
    "import networkx as nx\n",
    "import matplotlib.pyplot as plt\n",
    "import pandas as pd\n",
    "df=pd.read_csv(' .csv')\n",
    "Graphtype=nx.Graph()\n",
    "\n",
    "G=nx.from_pandas_edgelist(df,edge_attr='weight',create_using=Graphtype)\n",
    "\n",
    "partition = community.best_partition(G, weight='weight')\n",
    "print(partition)\n",
    "print(type(partition))\n",
    "\n",
    "print(partition.values())\n",
    "size = float(len(set(partition.values())))#values of the modules we got\n",
    "pos = nx.fruchterman_reingold_layout(G,weight='weight')\n",
    "count = 0.\n",
    "for com in set(partition.values()) :\n",
    "    count = count + 1.\n",
    "    list_nodes = [nodes for nodes in partition.keys()\n",
    "                                if partition[nodes] == com]\n",
    "    nx.draw_networkx_nodes(G, pos, list_nodes, node_size = 20,\n",
    "                                node_color = str(count / size))\n",
    "    \n",
    "\n",
    "\n",
    "nx.draw_networkx_edges(G, pos, alpha=0.5)\n",
    "plt.show()"
   ]
  }
 ],
 "metadata": {
  "kernelspec": {
   "display_name": "Python 3",
   "language": "python",
   "name": "python3"
  },
  "language_info": {
   "codemirror_mode": {
    "name": "ipython",
    "version": 3
   },
   "file_extension": ".py",
   "mimetype": "text/x-python",
   "name": "python",
   "nbconvert_exporter": "python",
   "pygments_lexer": "ipython3",
   "version": "3.7.4"
  }
 },
 "nbformat": 4,
 "nbformat_minor": 2
}
