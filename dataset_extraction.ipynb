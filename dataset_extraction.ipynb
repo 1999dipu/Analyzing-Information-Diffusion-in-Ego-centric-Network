{
 "cells": [
  {
   "cell_type": "code",
   "execution_count": null,
   "metadata": {},
   "outputs": [],
   "source": [
    "import tweepy\n",
    "import pandas as pd\n",
    "consumer_key = ''\n",
    "consumer_secret = ''\n",
    "access_token = ''\n",
    "access_token_secret = ''\n",
    "auth = tweepy.OAuthHandler(consumer_key, consumer_secret)\n",
    "auth.set_access_token(access_token, access_token_secret)\n",
    "api = tweepy.API(auth,wait_on_rate_limit=True,wait_on_rate_limit_notify=True,compression=True)\n",
    "lnames=[]\n",
    "for user in tweepy.Cursor(api.friends, screen_name=\" \").items():\n",
    "    print(user.screen_name)\n",
    "    lnames.append(user.screen_name)"
   ]
  },
  {
   "cell_type": "code",
   "execution_count": null,
   "metadata": {},
   "outputs": [],
   "source": [
    "col1=[]\n",
    "col2=[]\n",
    "for user in tweepy.Cursor(api.friends, screen_name=\" \").items():\n",
    "    print(user.screen_name)\n",
    "    col1.append(\" \")\n",
    "    col2.append(user.screen_name) \n",
    "df = pd.DataFrame(index=None)\n",
    "df[\"source\"]=col1\n",
    "df[\"target\"]=col2\n",
    "#print(df)\n",
    "#following of following\n",
    "slp=0\n",
    "friend = col2.copy()\n",
    "col3=[]\n",
    "c=0\n",
    "length=len(col2)-1\n",
    "while(c!=length):\n",
    "    for i in friend[c:]:\n",
    "        c=c+1\n",
    "        col3.append(i)\n",
    "        for j in friend[c:]:\n",
    "            friendship=api.show_friendship(source_screen_name=i, target_screen_name=j)\n",
    "            if(friendship[0].followed_by):\n",
    "                print(j,i) # i followed by j\n",
    "                df.loc[len(df)]=[j,i]\n",
    "                df.to_csv('filename.csv',index=False)\n",
    "            if(friendship[1].followed_by):\n",
    "                print(i,j) # j followed by i\n",
    "                df.loc[len(df)]=[i,j]\n",
    "                df.to_csv('filename2.csv',index=False)"
   ]
  },
  {
   "cell_type": "code",
   "execution_count": null,
   "metadata": {},
   "outputs": [],
   "source": [
    "#assigning edge weights \n",
    "c=[];\n",
    "d=0;\n",
    "i=0;\n",
    "while(i!=250):\n",
    "    d=0;\n",
    "    h=\"@\"+lnames[i]\n",
    "    for tweet in api.user_timeline(screen_name=\" \"):\n",
    "        text=str(tweet.text.encode(\"utf-8\"))\n",
    "        if h not in text:\n",
    "            continue\n",
    "        else:\n",
    "            d=d+1;\n",
    "    h=lnames[i]\n",
    "    for tweet in api.user_timeline(screen_name=\" \"):\n",
    "        text=str(tweet.text.encode(\"utf-8\"))\n",
    "        if h not in text:\n",
    "            continue\n",
    "        else:\n",
    "            d=d+1;\n",
    "    h=\"#\"+lnames[i]\n",
    "    for tweet in api.user_timeline(screen_name=\"Rakulpreet\"):\n",
    "        text=str(tweet.text.encode(\"utf-8\"))\n",
    "        if h not in text:\n",
    "            continue\n",
    "        else:\n",
    "            d=d+1;\n",
    "    c.append(d+20)\n",
    "    i=i+1;\n",
    "#print(c)"
   ]
  }
 ],
 "metadata": {
  "kernelspec": {
   "display_name": "Python 3",
   "language": "python",
   "name": "python3"
  },
  "language_info": {
   "codemirror_mode": {
    "name": "ipython",
    "version": 3
   },
   "file_extension": ".py",
   "mimetype": "text/x-python",
   "name": "python",
   "nbconvert_exporter": "python",
   "pygments_lexer": "ipython3",
   "version": "3.6.2"
  }
 },
 "nbformat": 4,
 "nbformat_minor": 2
}
